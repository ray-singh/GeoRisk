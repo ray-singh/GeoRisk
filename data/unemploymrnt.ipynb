{
 "cells": [
  {
   "cell_type": "code",
   "execution_count": 17,
   "metadata": {},
   "outputs": [],
   "source": [
    "import requests\n",
    "import pandas as pd"
   ]
  },
  {
   "cell_type": "markdown",
   "metadata": {},
   "source": [
    "Fetching unemployment data from World Bank."
   ]
  },
  {
   "cell_type": "code",
   "execution_count": 27,
   "metadata": {},
   "outputs": [],
   "source": [
    "def fetch_unemployment(country_code):\n",
    "    url = f\"https://api.worldbank.org/v2/country/{country_code}/indicator/SL.UEM.TOTL.ZS?date=2024&format=json\"\n",
    "    response = requests.get(url)\n",
    "    data = response.json()\n",
    "\n",
    "    if len(data) < 2 or not data[1]:\n",
    "        print(\"No data available.\")\n",
    "        return None\n",
    "\n",
    "    record = data[1][0]\n",
    "    return record['value']"
   ]
  },
  {
   "cell_type": "code",
   "execution_count": 29,
   "metadata": {},
   "outputs": [
    {
     "name": "stdout",
     "output_type": "stream",
     "text": [
      "7.634\n"
     ]
    }
   ],
   "source": [
    "# Practice\n",
    "result = fetch_unemployment(\"br\")\n",
    "print(result)"
   ]
  },
  {
   "cell_type": "code",
   "execution_count": 30,
   "metadata": {},
   "outputs": [],
   "source": [
    "# Importing dataset as a dataframe\n",
    "dataset = pd.read_csv('dataset.csv')"
   ]
  },
  {
   "cell_type": "code",
   "execution_count": 31,
   "metadata": {},
   "outputs": [
    {
     "name": "stdout",
     "output_type": "stream",
     "text": [
      "No data available.\n",
      "No data available.\n",
      "No data available.\n",
      "No data available.\n",
      "No data available.\n",
      "No data available.\n",
      "No data available.\n",
      "No data available.\n",
      "No data available.\n",
      "No data available.\n",
      "No data available.\n",
      "No data available.\n",
      "No data available.\n",
      "No data available.\n",
      "No data available.\n",
      "No data available.\n",
      "No data available.\n",
      "No data available.\n",
      "No data available.\n",
      "No data available.\n",
      "No data available.\n",
      "No data available.\n",
      "No data available.\n",
      "No data available.\n",
      "No data available.\n",
      "nan\n",
      "No data available.\n",
      "No data available.\n",
      "No data available.\n",
      "No data available.\n",
      "No data available.\n"
     ]
    }
   ],
   "source": [
    "unemployment = []\n",
    "\n",
    "for country in dataset['iso2Code']:\n",
    "    try:\n",
    "        code = country.lower()\n",
    "        unemployment_val = fetch_unemployment(code)\n",
    "        unemployment.append(unemployment_val)\n",
    "    except:\n",
    "        print(country)\n",
    "        unemployment.append(-99999.0)"
   ]
  },
  {
   "cell_type": "code",
   "execution_count": 34,
   "metadata": {},
   "outputs": [
    {
     "data": {
      "text/html": [
       "<div>\n",
       "<style scoped>\n",
       "    .dataframe tbody tr th:only-of-type {\n",
       "        vertical-align: middle;\n",
       "    }\n",
       "\n",
       "    .dataframe tbody tr th {\n",
       "        vertical-align: top;\n",
       "    }\n",
       "\n",
       "    .dataframe thead th {\n",
       "        text-align: right;\n",
       "    }\n",
       "</style>\n",
       "<table border=\"1\" class=\"dataframe\">\n",
       "  <thead>\n",
       "    <tr style=\"text-align: right;\">\n",
       "      <th></th>\n",
       "      <th>id</th>\n",
       "      <th>iso2Code</th>\n",
       "      <th>name</th>\n",
       "      <th>inflation_rate</th>\n",
       "      <th>gdp_percent_change</th>\n",
       "      <th>unemployment_rate</th>\n",
       "    </tr>\n",
       "  </thead>\n",
       "  <tbody>\n",
       "    <tr>\n",
       "      <th>0</th>\n",
       "      <td>ABW</td>\n",
       "      <td>AW</td>\n",
       "      <td>Aruba</td>\n",
       "      <td>-99999.000000</td>\n",
       "      <td>2.200</td>\n",
       "      <td>NaN</td>\n",
       "    </tr>\n",
       "    <tr>\n",
       "      <th>1</th>\n",
       "      <td>AFE</td>\n",
       "      <td>ZH</td>\n",
       "      <td>Africa Eastern and Southern</td>\n",
       "      <td>-99999.000000</td>\n",
       "      <td>-99999.000</td>\n",
       "      <td>7.772656</td>\n",
       "    </tr>\n",
       "    <tr>\n",
       "      <th>2</th>\n",
       "      <td>AFG</td>\n",
       "      <td>AF</td>\n",
       "      <td>Afghanistan</td>\n",
       "      <td>-3.366652</td>\n",
       "      <td>2.267</td>\n",
       "      <td>13.295000</td>\n",
       "    </tr>\n",
       "    <tr>\n",
       "      <th>3</th>\n",
       "      <td>AFR</td>\n",
       "      <td>A9</td>\n",
       "      <td>Africa</td>\n",
       "      <td>-99999.000000</td>\n",
       "      <td>-99999.000</td>\n",
       "      <td>NaN</td>\n",
       "    </tr>\n",
       "    <tr>\n",
       "      <th>4</th>\n",
       "      <td>AFW</td>\n",
       "      <td>ZI</td>\n",
       "      <td>Africa Western and Central</td>\n",
       "      <td>-99999.000000</td>\n",
       "      <td>-99999.000</td>\n",
       "      <td>3.218313</td>\n",
       "    </tr>\n",
       "  </tbody>\n",
       "</table>\n",
       "</div>"
      ],
      "text/plain": [
       "    id iso2Code                         name  inflation_rate  \\\n",
       "0  ABW       AW                        Aruba   -99999.000000   \n",
       "1  AFE       ZH  Africa Eastern and Southern   -99999.000000   \n",
       "2  AFG       AF                  Afghanistan       -3.366652   \n",
       "3  AFR       A9                       Africa   -99999.000000   \n",
       "4  AFW       ZI   Africa Western and Central   -99999.000000   \n",
       "\n",
       "   gdp_percent_change  unemployment_rate  \n",
       "0               2.200                NaN  \n",
       "1          -99999.000           7.772656  \n",
       "2               2.267          13.295000  \n",
       "3          -99999.000                NaN  \n",
       "4          -99999.000           3.218313  "
      ]
     },
     "execution_count": 34,
     "metadata": {},
     "output_type": "execute_result"
    }
   ],
   "source": [
    "dataset['unemployment_rate'] = unemployment\n",
    "dataset.head()"
   ]
  },
  {
   "cell_type": "code",
   "execution_count": 35,
   "metadata": {},
   "outputs": [],
   "source": [
    "dataset.to_csv('dataset.csv', index=False)"
   ]
  },
  {
   "cell_type": "code",
   "execution_count": null,
   "metadata": {},
   "outputs": [],
   "source": []
  }
 ],
 "metadata": {
  "kernelspec": {
   "display_name": "georisk",
   "language": "python",
   "name": "python3"
  },
  "language_info": {
   "codemirror_mode": {
    "name": "ipython",
    "version": 3
   },
   "file_extension": ".py",
   "mimetype": "text/x-python",
   "name": "python",
   "nbconvert_exporter": "python",
   "pygments_lexer": "ipython3",
   "version": "3.9.21"
  }
 },
 "nbformat": 4,
 "nbformat_minor": 2
}
